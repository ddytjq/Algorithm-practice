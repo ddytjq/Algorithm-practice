{
 "cells": [
  {
   "cell_type": "code",
   "execution_count": 12,
   "metadata": {},
   "outputs": [
    {
     "name": "stdout",
     "output_type": "stream",
     "text": [
      "안녕하세요. 저는aaa\n"
     ]
    }
   ],
   "source": [
    "# module\n",
    "\n",
    "class person:\n",
    "    def __init__(self, name, age, address):\n",
    "        self.name=name\n",
    "        self.age=age\n",
    "        self.address=address\n",
    "    \n",
    "    def prt(self):\n",
    "        print(\"안녕하세요. 저는{0}\".format(self.name))\n",
    "\n",
    "result = person('aaa','bbb','ccc')\n",
    "result.prt()\n",
    "\n",
    "# __init__(self, a, b, c)\n",
    "# result= (classname)(a,b,c)\n",
    "# result.outputfunction"
   ]
  },
  {
   "cell_type": "code",
   "execution_count": 13,
   "metadata": {},
   "outputs": [
    {
     "name": "stdout",
     "output_type": "stream",
     "text": [
      "짐의 무게는 얼마입니까?18\n",
      "xxxx\n"
     ]
    }
   ],
   "source": [
    "# Lab: Baggage charge calculation\n",
    "\n",
    "a=int(input(\"짐의 무게는 얼마입니까?\"))\n",
    "\n",
    "if a > 20:\n",
    "    print(\"수수료20000\")\n",
    "else:\n",
    "    print(\"xxxx\")"
   ]
  },
  {
   "cell_type": "code",
   "execution_count": 14,
   "metadata": {},
   "outputs": [
    {
     "name": "stdout",
     "output_type": "stream",
     "text": [
      "정수입력:2\n",
      "짝수\n"
     ]
    }
   ],
   "source": [
    "# Lab: baggage charge calculation\n",
    "\n",
    "a=int(input(\"정수입력:\"))\n",
    "if a%2==0:\n",
    "    print(\"짝수\")\n",
    "else:\n",
    "    print(\"홀수\")"
   ]
  },
  {
   "cell_type": "code",
   "execution_count": 15,
   "metadata": {},
   "outputs": [
    {
     "name": "stdout",
     "output_type": "stream",
     "text": [
      "구입 금액을 입력하시오:100500\n",
      "95475.0\n"
     ]
    }
   ],
   "source": [
    "# lab : 수하물 비용 계산\n",
    "\n",
    "a=int(input(\"구입 금액을 입력하시오:\"))\n",
    "if a >=100000:\n",
    "    print(a-(a*5/100))"
   ]
  },
  {
   "cell_type": "code",
   "execution_count": 23,
   "metadata": {},
   "outputs": [
    {
     "name": "stdout",
     "output_type": "stream",
     "text": [
      "문자열을 입력하시오:string\n",
      "ri\n"
     ]
    }
   ],
   "source": [
    "# lab: 문자열의 중간문자\n",
    "\n",
    "a=input(\"문자열을 입력하시오:\")\n",
    "if len(a) % 2 == 0:\n",
    "    print(a[len(a)//2-1]+a[len(a)//2])\n",
    "else:\n",
    "    print(a[len(a)//2])"
   ]
  },
  {
   "cell_type": "code",
   "execution_count": 24,
   "metadata": {},
   "outputs": [
    {
     "name": "stdout",
     "output_type": "stream",
     "text": [
      "이수한 학점수를 입력하시오:120\n",
      "평점을 입력하시오:4.5\n",
      "졸업불가능\n"
     ]
    }
   ],
   "source": [
    "# lab: 졸업 학점 검사하기\n",
    "\n",
    "a=int(input(\"이수한 학점수를 입력하시오:\"))\n",
    "b=float(input(\"평점을 입력하시오:\"))\n",
    "\n",
    "if a >= 140 and b >=2.0:\n",
    "    pirnt(\"졸업가능\")\n",
    "else:\n",
    "    print(\"졸업불가능\")"
   ]
  },
  {
   "cell_type": "code",
   "execution_count": 32,
   "metadata": {},
   "outputs": [
    {
     "name": "stdout",
     "output_type": "stream",
     "text": [
      "name:kim\n",
      "password:345\n"
     ]
    }
   ],
   "source": [
    "#check id\n",
    "\n",
    "a=['kim','yo','sub']\n",
    "b=['123','456','789']\n",
    "\n",
    "q=input(\"name:\")\n",
    "for i in [0,len(a)]:\n",
    "    if q == a[i]:\n",
    "        w=input(\"password:\")\n",
    "        for j in [0,len(b)]:\n",
    "            if w == b[j]:\n",
    "                print(\"환영합니다.\")\n",
    "                break\n",
    "            else:\n",
    "                break\n",
    "        break\n",
    "    else:\n",
    "        break"
   ]
  },
  {
   "cell_type": "code",
   "execution_count": 3,
   "metadata": {},
   "outputs": [
    {
     "name": "stdout",
     "output_type": "stream",
     "text": [
      "a:1\n",
      "b:-5\n",
      "c:6\n",
      "3.0\n",
      "2.0\n"
     ]
    }
   ],
   "source": [
    "# lab: quadratic equation\n",
    "\n",
    "from math import *\n",
    "\n",
    "a=int(input(\"a:\"))\n",
    "b=int(input(\"b:\"))\n",
    "c=int(input(\"c:\"))\n",
    "\n",
    "result1=(-b+sqrt(b**2-4*a*c))/2*a\n",
    "result2=(-b-sqrt(b**2-4*a*c))/2*a\n",
    "\n",
    "print(result1)\n",
    "print(result2)"
   ]
  },
  {
   "cell_type": "code",
   "execution_count": 6,
   "metadata": {},
   "outputs": [
    {
     "name": "stdout",
     "output_type": "stream",
     "text": [
      "숫자 게임에 오신 것을 환영합니다.\n",
      "9\n",
      "숫자를 맞춰 보세요:99\n",
      "너무 큼\n",
      "게임 종료\n"
     ]
    }
   ],
   "source": [
    "# lab: numbers matching game\n",
    "\n",
    "from random import *\n",
    "\n",
    "print(\"숫자 게임에 오신 것을 환영합니다.\")\n",
    "a=randint(1,100)\n",
    "print(a)\n",
    "\n",
    "result=int(input(\"숫자를 맞춰 보세요:\"))\n",
    "if result == a:\n",
    "    print(\"정답\")\n",
    "elif result > a:\n",
    "    print(\"너무 큼\")\n",
    "else:\n",
    "    print(\"너무 작음\")\n",
    "print(\"게임 종료\")"
   ]
  },
  {
   "cell_type": "code",
   "execution_count": 17,
   "metadata": {},
   "outputs": [
    {
     "name": "stdout",
     "output_type": "stream",
     "text": [
      "(가위, 바위, 보) 중에서 하나를 선택하세요:가위\n",
      "사용자:가위 컴퓨터:보\n",
      "사용자가 이겼음\n"
     ]
    }
   ],
   "source": [
    "# lab: 가위바위보\n",
    "\n",
    "from random import *\n",
    "\n",
    "setting=['가위','바위','보']\n",
    "result=input(\"(가위, 바위, 보) 중에서 하나를 선택하세요:\")\n",
    "a=choice(setting)\n",
    "print(\"사용자:\"+result+\" 컴퓨터:\"+a)\n",
    "if a==\"가위\":\n",
    "    if result==\"가위\":\n",
    "        print(\"비겼음\")\n",
    "    elif result==\"바위\":\n",
    "        print(\"사용자가 이겼음\")\n",
    "    elif result==\"보\":\n",
    "        print(\"컴퓨터가 이겼음\")\n",
    "elif a==\"바위\":\n",
    "    if result==\"가위\":\n",
    "        print(\"컴퓨터가 이겼음\")\n",
    "    elif result==\"바위\":\n",
    "        print(\"비겼음\")\n",
    "    elif result==\"보\":\n",
    "        print(\"사용자가 이겼음\")\n",
    "elif a==\"보\":\n",
    "    if result==\"가위\":\n",
    "        print(\"사용자가 이겼음\")\n",
    "    elif result==\"바위\":\n",
    "        print(\"컴퓨터가 이겼음\")\n",
    "    elif result==\"보\":\n",
    "        print(\"비겼음\")\n"
   ]
  },
  {
   "cell_type": "code",
   "execution_count": 8,
   "metadata": {},
   "outputs": [
    {
     "name": "stdout",
     "output_type": "stream",
     "text": [
      "안녕1 안녕2 안녕3 안녕4 "
     ]
    }
   ],
   "source": [
    "# for 문\n",
    "\n",
    "for name in [\"1\",\"2\",\"3\",\"4\"]:\n",
    "    print(\"안녕\"+name, end=\" \")"
   ]
  },
  {
   "cell_type": "code",
   "execution_count": 13,
   "metadata": {},
   "outputs": [
    {
     "name": "stdout",
     "output_type": "stream",
     "text": [
      "어디까지 계산할까요:10\n",
      "55\n"
     ]
    }
   ],
   "source": [
    "# lab: 정수들의 합\n",
    "\n",
    "a=int(input(\"어디까지 계산할까요:\"))\n",
    "b=0\n",
    "for i in range(1, a+1):\n",
    "    b +=i\n",
    "print(b)\n",
    "\n",
    "# range는 a<=x<b 이다"
   ]
  },
  {
   "cell_type": "code",
   "execution_count": 14,
   "metadata": {},
   "outputs": [
    {
     "name": "stdout",
     "output_type": "stream",
     "text": [
      "정수를 입력하시오:10\n",
      "3628800\n"
     ]
    }
   ],
   "source": [
    "# lab factorial \n",
    "\n",
    "a=int(input(\"정수를 입력하시오:\"))\n",
    "sum=1\n",
    "for i in range(1, a+1):\n",
    "    sum= sum*i\n",
    "    \n",
    "print(sum)"
   ]
  },
  {
   "cell_type": "code",
   "execution_count": 18,
   "metadata": {},
   "outputs": [
    {
     "name": "stdout",
     "output_type": "stream",
     "text": [
      "0 -> -17.777778\n",
      "10 -> -12.222222\n",
      "20 -> -6.666667\n",
      "30 -> -1.111111\n",
      "40 -> 4.444444\n",
      "50 -> 10.000000\n",
      "60 -> 15.555556\n",
      "70 -> 21.111111\n",
      "80 -> 26.666667\n",
      "90 -> 32.222222\n",
      "100 -> 37.777778\n"
     ]
    }
   ],
   "source": [
    "# lab: 온도변환테이블 출력\n",
    "\n",
    "def func(a):\n",
    "    result = (a-32)*5/9\n",
    "    return result\n",
    "\n",
    "for i in range(0, 11):\n",
    "    print(i*10,\"-> %1f\" % func(i*10))"
   ]
  },
  {
   "cell_type": "code",
   "execution_count": 21,
   "metadata": {},
   "outputs": [
    {
     "name": "stdout",
     "output_type": "stream",
     "text": [
      "1683\n"
     ]
    }
   ],
   "source": [
    "# lab: 배수의 합 계산\n",
    "\n",
    "num=1\n",
    "result=0\n",
    "\n",
    "while num < 100:\n",
    "    if num % 3 == 0:\n",
    "        result+=num\n",
    "    num+=1\n",
    "\n",
    "print(result)"
   ]
  },
  {
   "cell_type": "code",
   "execution_count": 32,
   "metadata": {},
   "outputs": [
    {
     "name": "stdout",
     "output_type": "stream",
     "text": [
      "자리수:1234\n",
      "10\n"
     ]
    }
   ],
   "source": [
    "# lab: 자리수의 합\n",
    "\n",
    "num=input(\"자리수:\")\n",
    "sum=0\n",
    "for i in range(0, len(num)):\n",
    "    sum+=int(num[i])\n",
    "print(sum)"
   ]
  },
  {
   "cell_type": "code",
   "execution_count": 3,
   "metadata": {},
   "outputs": [
    {
     "name": "stdout",
     "output_type": "stream",
     "text": [
      "종료하려면 음수를 입력하시오\n",
      "성적을 입력하시오:10\n",
      "성적을 입력하시오:20\n",
      "성적을 입력하시오:30\n",
      "성적을 입력하시오:-1\n",
      "성적의 평균은 20.0 입니다.\n"
     ]
    }
   ],
   "source": [
    "# example\n",
    "\n",
    "print(\"종료하려면 음수를 입력하시오\")\n",
    "add=0\n",
    "count=0\n",
    "while True:\n",
    "    result=int(input(\"성적을 입력하시오:\"))\n",
    "    if result<0:\n",
    "        break\n",
    "    add+=result\n",
    "    count+=1\n",
    "print(\"성적의 평균은\",add/count,\"입니다.\")"
   ]
  },
  {
   "cell_type": "code",
   "execution_count": 4,
   "metadata": {},
   "outputs": [
    {
     "name": "stdout",
     "output_type": "stream",
     "text": [
      "1부터 100 사이의 숫자를 맞추시오\n",
      "38\n",
      "숫자를 입력하시오:1\n",
      "낮음!\n",
      "숫자를 입력하시오:2\n",
      "낮음!\n",
      "숫자를 입력하시오:4\n",
      "낮음!\n",
      "숫자를 입력하시오:100\n",
      "높음!\n",
      "숫자를 입력하시오:38\n",
      "축하합니다. 시도횟수= 4\n"
     ]
    }
   ],
   "source": [
    "# lab 숫자맞추기 게임\n",
    "\n",
    "from random import *\n",
    "print(\"1부터 100 사이의 숫자를 맞추시오\")\n",
    "result=randint(1,100)\n",
    "print(result)\n",
    "count=0\n",
    "while True:\n",
    "    a=int(input(\"숫자를 입력하시오:\"))\n",
    "    if a>result :\n",
    "        print(\"높음!\")\n",
    "        count+=1\n",
    "    elif a<result :\n",
    "        print(\"낮음!\")\n",
    "        count+=1\n",
    "    elif a==result :\n",
    "        break\n",
    "print(\"축하합니다. 시도횟수=\",count)"
   ]
  },
  {
   "cell_type": "code",
   "execution_count": 3,
   "metadata": {},
   "outputs": [
    {
     "name": "stdout",
     "output_type": "stream",
     "text": [
      "a p p l e "
     ]
    }
   ],
   "source": [
    "# 문자열 처리하기\n",
    "\n",
    "a=\"apple\"\n",
    "\n",
    "for i in a:\n",
    "    print(i, end=\" \")"
   ]
  },
  {
   "cell_type": "code",
   "execution_count": 4,
   "metadata": {},
   "outputs": [
    {
     "name": "stdout",
     "output_type": "stream",
     "text": [
      "문자열을 입력하세요:kkkoommm\n",
      "kkkmmm\n"
     ]
    }
   ],
   "source": [
    "# example\n",
    "\n",
    "a=input(\"문자열을 입력하세요:\")\n",
    "no=\"aeiouAEIOU\"\n",
    "result=\"\"\n",
    "for i in a:\n",
    "    if i not in no:\n",
    "        result+=i\n",
    "    \n",
    "print(result)"
   ]
  },
  {
   "cell_type": "code",
   "execution_count": 5,
   "metadata": {},
   "outputs": [
    {
     "name": "stdout",
     "output_type": "stream",
     "text": [
      "문자열을 입력하시오:iokkk\n",
      "모음의 개수: 2\n",
      "자음의 개수: 3\n"
     ]
    }
   ],
   "source": [
    "# example\n",
    "\n",
    "original=input(\"문자열을 입력하시오:\")\n",
    "mo='aeiouAEIOU'\n",
    "i=0\n",
    "j=0\n",
    "for num in original:\n",
    "    if num not in mo :\n",
    "        i+=1\n",
    "    else:\n",
    "        j+=1\n",
    "print(\"모음의 개수:\",j)\n",
    "print(\"자음의 개수:\",i)"
   ]
  },
  {
   "cell_type": "code",
   "execution_count": 9,
   "metadata": {},
   "outputs": [
    {
     "name": "stdout",
     "output_type": "stream",
     "text": [
      "문자열을 입력하시오:meav-01-i dreamt i dwelt in marble halls-192k.mp3\n",
      "알파벳 문자의 개수= 33\n",
      "숫자 문자의 개수= 6\n",
      "스페이스 문자의 개수= 6\n"
     ]
    }
   ],
   "source": [
    "# lab: 문자열 조사\n",
    "\n",
    "\n",
    "inp=input(\"문자열을 입력하시오:\")\n",
    "a=0\n",
    "b=0\n",
    "c=0\n",
    "for i in inp:\n",
    "    if i.isalpha():\n",
    "        a+=1\n",
    "    elif i.isdigit():\n",
    "        b+=1\n",
    "    elif i.isspace():\n",
    "        c+=1\n",
    "print(\"알파벳 문자의 개수=\",a)\n",
    "print(\"숫자 문자의 개수=\",b)\n",
    "print(\"스페이스 문자의 개수=\",c)"
   ]
  },
  {
   "cell_type": "code",
   "execution_count": 11,
   "metadata": {},
   "outputs": [
    {
     "name": "stdout",
     "output_type": "stream",
     "text": [
      "계좌번호를 입력하시오:312-02-1234567\n",
      "312021234567\n"
     ]
    }
   ],
   "source": [
    "# lab: 계좌번호 처리\n",
    "\n",
    "num=input(\"계좌번호를 입력하시오:\")\n",
    "result=\"\"\n",
    "for i in num:\n",
    "    if i != \"-\":\n",
    "        result+=i\n",
    "        \n",
    "print(result)"
   ]
  },
  {
   "cell_type": "code",
   "execution_count": 12,
   "metadata": {},
   "outputs": [
    {
     "name": "stdout",
     "output_type": "stream",
     "text": [
      "24\n"
     ]
    }
   ],
   "source": [
    "# example 5-1 : value-returning function\n",
    "\n",
    "def function(x, y, z):\n",
    "    result= x * y * z\n",
    "    return result\n",
    "\n",
    "print(function(2,3,4))"
   ]
  },
  {
   "cell_type": "code",
   "execution_count": 14,
   "metadata": {},
   "outputs": [
    {
     "name": "stdout",
     "output_type": "stream",
     "text": [
      "31\n"
     ]
    }
   ],
   "source": [
    "# example 5-2 value-returning function\n",
    "\n",
    "def function(x):\n",
    "    result=x**2+x+1\n",
    "    return result\n",
    "\n",
    "print(function(5))"
   ]
  },
  {
   "cell_type": "code",
   "execution_count": 15,
   "metadata": {},
   "outputs": [
    {
     "name": "stdout",
     "output_type": "stream",
     "text": [
      "8\n"
     ]
    }
   ],
   "source": [
    "# lab5-1 value-returning function\n",
    "\n",
    "def function(x):\n",
    "    return x+3\n",
    "\n",
    "print(function(5))"
   ]
  },
  {
   "cell_type": "code",
   "execution_count": 25,
   "metadata": {},
   "outputs": [
    {
     "name": "stdout",
     "output_type": "stream",
     "text": [
      "5.0\n"
     ]
    }
   ],
   "source": [
    "# lab5-2 value-returning function\n",
    "\n",
    "def function(x):\n",
    "    result=0\n",
    "    for i in range(0, len(x)):\n",
    "        result+=x[i]\n",
    "    return result/len(x)\n",
    "\n",
    "print(function([1,2,3,4,5,6,7,8,9]))"
   ]
  },
  {
   "cell_type": "code",
   "execution_count": 26,
   "metadata": {},
   "outputs": [
    {
     "name": "stdout",
     "output_type": "stream",
     "text": [
      "짝수\n"
     ]
    }
   ],
   "source": [
    "# lab5-3 void function\n",
    "\n",
    "def function(x):\n",
    "    if x % 2 == 0:\n",
    "        print(\"짝수\")\n",
    "    elif x % 2 != 0:\n",
    "        print(\"홀수\")\n",
    "function(4)"
   ]
  },
  {
   "cell_type": "code",
   "execution_count": 1,
   "metadata": {},
   "outputs": [
    {
     "name": "stdout",
     "output_type": "stream",
     "text": [
      "[1, 2, 3, 4, 5, 6, 7, 8, 9, 10]\n"
     ]
    }
   ],
   "source": [
    "# lab5-4 void function\n",
    "\n",
    "def function(a, i):\n",
    "    if i in a:        \n",
    "        print(\"이미 있는 원소입니다.\")\n",
    "    else:\n",
    "        a=a+[i]\n",
    "        print(a)\n",
    "        \n",
    "a=[1,2,3,4,5,6,7,8,9]\n",
    "function(a, 10)"
   ]
  },
  {
   "cell_type": "code",
   "execution_count": 81,
   "metadata": {},
   "outputs": [
    {
     "name": "stdout",
     "output_type": "stream",
     "text": [
      "일본요리\n"
     ]
    }
   ],
   "source": [
    "# lab5-3 void function\n",
    "\n",
    "from random import *\n",
    "\n",
    "result=['앞','뒤']\n",
    "re=choice(result)\n",
    "if re == '앞':\n",
    "    print(\"쭝국요리\")\n",
    "else:\n",
    "    print(\"일본요리\")\n"
   ]
  }
 ],
 "metadata": {
  "kernelspec": {
   "display_name": "Python 3",
   "language": "python",
   "name": "python3"
  },
  "language_info": {
   "codemirror_mode": {
    "name": "ipython",
    "version": 3
   },
   "file_extension": ".py",
   "mimetype": "text/x-python",
   "name": "python",
   "nbconvert_exporter": "python",
   "pygments_lexer": "ipython3",
   "version": "3.6.5"
  }
 },
 "nbformat": 4,
 "nbformat_minor": 2
}
