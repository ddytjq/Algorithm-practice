{
 "cells": [
  {
   "cell_type": "code",
   "execution_count": null,
   "metadata": {},
   "outputs": [],
   "source": [
    "# class Test:\n",
    "\n",
    "    def __init__(self, name, age):\n",
    "        self.name=name\n",
    "        self.age=age\n",
    "        \n",
    "    def func(self):\n",
    "        print(self.name)\n",
    "        \n",
    "a=Test('ggg',4)\n",
    "a.func()"
   ]
  },
  {
   "cell_type": "code",
   "execution_count": 16,
   "metadata": {},
   "outputs": [
    {
     "name": "stdout",
     "output_type": "stream",
     "text": [
      "문자열을 입력하시오:weekend\n",
      "k\n"
     ]
    }
   ],
   "source": [
    "a=input(\"문자열을 입력하시오:\")\n",
    "\n",
    "if len(a) % 2 == 0:\n",
    "    print(a[len(a)//2 -1]+\" \"+a[len(a)//2])\n",
    "elif len(a) % 2 != 0:\n",
    "    print(a[len(a)//2])"
   ]
  },
  {
   "cell_type": "code",
   "execution_count": 33,
   "metadata": {
    "scrolled": true
   },
   "outputs": [
    {
     "name": "stdout",
     "output_type": "stream",
     "text": [
      "보\n"
     ]
    }
   ],
   "source": [
    "a=['가위','바위','보']\n",
    "result=choice(a)\n",
    "print(result)"
   ]
  },
  {
   "cell_type": "code",
   "execution_count": 2,
   "metadata": {},
   "outputs": [
    {
     "name": "stdout",
     "output_type": "stream",
     "text": [
      "input:asdfgqwertyuruifskjvhkzjfjseil\n",
      "sdfgqwrtyrfskjvhkzjfjsl\n"
     ]
    }
   ],
   "source": [
    "a=input(\"input:\")\n",
    "b='aeiouAEIOU'\n",
    "result=\"\"\n",
    "\n",
    "for i in range(0, len(a)):\n",
    "    if a[i] not in b:\n",
    "        result+=a[i]\n",
    "\n",
    "print(result)"
   ]
  },
  {
   "cell_type": "code",
   "execution_count": 5,
   "metadata": {},
   "outputs": [
    {
     "name": "stdout",
     "output_type": "stream",
     "text": [
      "input data:fjlsaij9ja93092u0f913fj 39j 013jf093fj\n",
      "alp :  18\n",
      "num :  18\n",
      "spe :  2\n"
     ]
    }
   ],
   "source": [
    "a=input(\"input data:\")\n",
    "alp=0\n",
    "num=0\n",
    "spe=0\n",
    "for i in range(0, len(a)):\n",
    "    if a[i].isalpha():\n",
    "        alp+=1\n",
    "    elif a[i].isnumeric():\n",
    "        num+=1\n",
    "    elif a[i].isspace():\n",
    "        spe+=1\n",
    "\n",
    "print(\"alp : \",alp)\n",
    "print(\"num : \",num)\n",
    "print(\"spe : \",spe)\n",
    "        "
   ]
  },
  {
   "cell_type": "code",
   "execution_count": 8,
   "metadata": {},
   "outputs": [
    {
     "name": "stdout",
     "output_type": "stream",
     "text": [
      "[5, 8, 4, 3, 67, 87, 3]\n"
     ]
    }
   ],
   "source": [
    "a=[5,8,4,3,67,87]\n",
    "\n",
    "def function(a, b):\n",
    "    for i in range(0, len(a)):\n",
    "        if a[i] == b:\n",
    "            print(\"이미 있는 원소입니다.\")\n",
    "        else:\n",
    "            a=a+[b]\n",
    "            break\n",
    "    print(a)\n",
    "    \n",
    "function(a, 3)"
   ]
  },
  {
   "cell_type": "code",
   "execution_count": 3,
   "metadata": {},
   "outputs": [],
   "source": [
    "# practice\n",
    "\n",
    "from tkinter import *\n",
    "\n",
    "root=Tk()\n",
    "\n",
    "entry=Entry(root)\n",
    "\n",
    "def func():\n",
    "    label.config(text=entry.get())\n",
    "\n",
    "label=Label(root, text=\"hello world\", font=(\" \", 15))\n",
    "button=Button(root, text=\"button\", width=3, height=2, command=func)\n",
    "label.pack()\n",
    "entry.pack()\n",
    "button.pack()\n",
    "\n",
    "root.mainloop()"
   ]
  },
  {
   "cell_type": "code",
   "execution_count": 3,
   "metadata": {},
   "outputs": [],
   "source": [
    "# turtle\n",
    "\n",
    "from tkinter import *\n",
    "from turtle import *\n",
    "\n",
    "t=Turtle()\n",
    "t.shape(\"turtle\")\n",
    "\n",
    "\n",
    "t.right(120)\n",
    "t.forward(120)\n",
    "t.left(30)\n",
    "t.forward(120)\n",
    "t.left(90)\n",
    "t.forward(120)"
   ]
  },
  {
   "cell_type": "code",
   "execution_count": 3,
   "metadata": {},
   "outputs": [
    {
     "name": "stdout",
     "output_type": "stream",
     "text": [
      "정답 : 51\n"
     ]
    }
   ],
   "source": [
    "# exercise 3\n",
    "\n",
    "from tkinter import *\n",
    "from random import *\n",
    "\n",
    "# setting\n",
    "root=Tk()\n",
    "root.title(\"숫자를 맞춰보세요!\")\n",
    "root.geometry(\"500x100\")\n",
    "num=randint(1, 100)\n",
    "print(\"정답 :\", num)\n",
    "\n",
    "# function\n",
    "def function_1():\n",
    "    result=entry.get()\n",
    "    if num < int(result) :\n",
    "        label2.config(text='높음')\n",
    "    elif num > int(result) :\n",
    "        label2.config(text='낮음')\n",
    "    else:\n",
    "        label2.config(text='정답')\n",
    "\n",
    "def function_2():\n",
    "    global num\n",
    "    num=randint(1, 100)\n",
    "    print(\"정답 :\", num)\n",
    "    label2.config(text=\"1부터 100사이의 숫자를 입력하시오.\")\n",
    "    entry.delete(0, END)\n",
    "\n",
    "# setting\n",
    "label=Label(root, text=\"숫자 게임에 오신 것을 환영합니다.\")\n",
    "entry=Entry(root)\n",
    "button1=Button(root, text='시도', fg='green', width=4, height=1, command=function_1)\n",
    "button2=Button(root, text='초기화', fg='yellow', width=4, height=1, command=function_2)\n",
    "label2=Label(root, text=\"1부터 100사이의 숫자를 입력하시오.\")\n",
    "\n",
    "label.pack(side=TOP)\n",
    "entry.pack(side=LEFT)\n",
    "button1.pack(side=LEFT)\n",
    "button2.pack(side=LEFT)\n",
    "label2.pack(side=LEFT)\n",
    "\n",
    "root.mainloop()"
   ]
  },
  {
   "cell_type": "code",
   "execution_count": null,
   "metadata": {},
   "outputs": [],
   "source": [
    "# canvas\n",
    "\n",
    "from tkinter import *\n",
    "\n",
    "root=Tk()\n",
    "can=Canvas(root, width=500, height=400)\n",
    "can.pack()\n",
    "\n",
    "can.create_line(0, 0, 50, 50)\n",
    "can.create_rectangle(100,100,150,150,fill='red')\n",
    "can.create_oval(100,200,150,250, fill='blue')\n",
    "can.create_polygon(250,250,250,250,250,250,250,250, fill='green')\n",
    "\n",
    "root.mainloop()"
   ]
  },
  {
   "cell_type": "code",
   "execution_count": null,
   "metadata": {},
   "outputs": [],
   "source": [
    "# practice\n",
    "\n",
    "from tkinter import *\n",
    "\n",
    "root=Tk()\n",
    "\n",
    "var=0\n",
    "state=False\n",
    "\n",
    "def func1():\n",
    "    global state\n",
    "    state=True\n",
    "def func2():\n",
    "    global state\n",
    "    state=False\n",
    "def func():\n",
    "    if state == True:\n",
    "        var+=1\n",
    "        label.config(text=\"%d\"%int(var))\n",
    "    root.after(100, func)\n",
    "    \n",
    "label=Label(root, text=\"0\", font=(\" \", 30))\n",
    "button1=Button(root, text=\"시작\", bg='yellow', command=func1)\n",
    "button2=Button(root, text=\"중지\", bg='yellow', command=func2)\n",
    "label.pack()\n",
    "button1.pack(fill=BOTH)\n",
    "button2.pack(fill=BOTH)\n",
    "func()\n",
    "root.mainloop()"
   ]
  },
  {
   "cell_type": "code",
   "execution_count": 20,
   "metadata": {},
   "outputs": [],
   "source": [
    "# practice\n",
    "\n",
    "from tkinter import *\n",
    "\n",
    "root=Tk()\n",
    "def func(ev):\n",
    "    label.config(text=entry.get())\n",
    "    \n",
    "label=Label(root, text=\"여기바뀔꺼에요\")\n",
    "entry=Entry(root)\n",
    "label.pack()\n",
    "entry.pack()\n",
    "entry.bind('<Return>', func)\n",
    "\n",
    "root.mainloop()"
   ]
  },
  {
   "cell_type": "code",
   "execution_count": 17,
   "metadata": {},
   "outputs": [
    {
     "name": "stdout",
     "output_type": "stream",
     "text": [
      "정답 :  93\n"
     ]
    }
   ],
   "source": [
    "# practice\n",
    "\n",
    "from tkinter import *\n",
    "from random import *\n",
    "root=Tk()\n",
    "root.title('숫자를 맞춰보세요!')\n",
    "root.geometry('500x80')\n",
    "result=randint(1, 100)\n",
    "print(\"정답 : \",result)\n",
    "\n",
    "def func1():\n",
    "    if int(entry.get()) == result:\n",
    "        label2.config(text='정답!')\n",
    "    elif int(entry.get()) > result:\n",
    "        label2.config(text='크다!')\n",
    "    elif int(entry.get()) < result:\n",
    "        label2.config(text='작다!')\n",
    "\n",
    "def func2():\n",
    "    global result\n",
    "    result=randint(1, 100)\n",
    "    print(\"정답 : \",result)\n",
    "    label2.config(text='1부터 100사이의 숫자를 입력하시오.')\n",
    "    entry.delete(0, END)\n",
    "    \n",
    "label=Label(root, text='숫자 게임에 오신 것을 환영합니다!')\n",
    "entry=Entry(root)\n",
    "bt1=Button(root, text='시도', fg='green', command=func1)\n",
    "bt2=Button(root, text='초기화', fg='red', command=func2)\n",
    "label2=Label(root, text='1부터 100사이의 숫자를 입력하시오.')\n",
    "label.pack(side=TOP)\n",
    "entry.pack(side=LEFT)\n",
    "bt1.pack(side=LEFT)\n",
    "bt2.pack(side=LEFT)\n",
    "label2.pack(side=LEFT)\n",
    "\n",
    "root.mainloop()"
   ]
  },
  {
   "cell_type": "code",
   "execution_count": 4,
   "metadata": {},
   "outputs": [
    {
     "name": "stdout",
     "output_type": "stream",
     "text": [
      "120\n"
     ]
    }
   ],
   "source": [
    "# 팩토리얼\n",
    "\n",
    "def factorial(n):\n",
    "    if n == 0:\n",
    "        return 1\n",
    "    else:\n",
    "        return factorial(n-1)*n\n",
    "    \n",
    "print(factorial(5))"
   ]
  },
  {
   "cell_type": "code",
   "execution_count": 7,
   "metadata": {},
   "outputs": [
    {
     "name": "stdout",
     "output_type": "stream",
     "text": [
      "13\n"
     ]
    }
   ],
   "source": [
    "#피보나치\n",
    "\n",
    "def fibonacci(n):\n",
    "    if n <= 1:\n",
    "        return 0\n",
    "    elif n == 2:\n",
    "        return 1\n",
    "    else:\n",
    "        return fibonacci(n-2)+fibonacci(n-1)\n",
    "\n",
    "print(fibonacci(8))"
   ]
  },
  {
   "cell_type": "code",
   "execution_count": 16,
   "metadata": {},
   "outputs": [
    {
     "name": "stdout",
     "output_type": "stream",
     "text": [
      "1 번 기둥 -- 1 번 원반-> 3\n",
      "1 번 기둥 -- 2 번 원반-> 2\n",
      "3 번 기둥 -- 1 번 원반-> 2\n",
      "1 번 기둥 -- 3 번 원반-> 3\n",
      "2 번 기둥 -- 1 번 원반-> 1\n",
      "2 번 기둥 -- 2 번 원반-> 3\n",
      "1 번 기둥 -- 1 번 원반-> 3\n",
      "None\n"
     ]
    }
   ],
   "source": [
    "#하노이\n",
    "\n",
    "def hanoi(n, start, end):\n",
    "    if n:\n",
    "        hanoi(n-1, start, 6-start-end)\n",
    "        print(start, \"번 기둥 --\", n, \"번 원반->\", end)\n",
    "        hanoi(n-1, 6-start-end, end)\n",
    "        \n",
    "print(hanoi(3,1,3))"
   ]
  }
 ],
 "metadata": {
  "kernelspec": {
   "display_name": "Python 3",
   "language": "python",
   "name": "python3"
  },
  "language_info": {
   "codemirror_mode": {
    "name": "ipython",
    "version": 3
   },
   "file_extension": ".py",
   "mimetype": "text/x-python",
   "name": "python",
   "nbconvert_exporter": "python",
   "pygments_lexer": "ipython3",
   "version": "3.6.5"
  }
 },
 "nbformat": 4,
 "nbformat_minor": 2
}
