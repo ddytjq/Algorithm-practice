{
 "cells": [
  {
   "cell_type": "code",
   "execution_count": 2,
   "metadata": {},
   "outputs": [
    {
     "name": "stdout",
     "output_type": "stream",
     "text": [
      "안녕하세요? 여러분\n",
      "저는 파이썬을 무척 좋아합니다.\n",
      "9*8은 72 입니다.\n",
      "안녕히 계세요.\n"
     ]
    }
   ],
   "source": [
    "# Lab print()\n",
    "\n",
    "print (\"안녕하세요? 여러분\")\n",
    "print (\"저는 파이썬을 무척 좋아합니다.\")\n",
    "print (\"9*8은 72 입니다.\")\n",
    "print (\"안녕히 계세요.\")"
   ]
  },
  {
   "cell_type": "code",
   "execution_count": 5,
   "metadata": {},
   "outputs": [
    {
     "name": "stdout",
     "output_type": "stream",
     "text": [
      "현재 신호를 입력하시오:stop\n",
      "현재 신호를 입력하시오:stop\n",
      "현재 신호를 입력하시오:sotp\n",
      "ok! 진행합니다\n"
     ]
    }
   ],
   "source": [
    "# Loop\n",
    "\n",
    "sign=\"stop\"\n",
    "\n",
    "while (sign == \"stop\"):\n",
    "    sign=input(\"현재 신호를 입력하시오:\")\n",
    "print(\"ok! 진행합니다\")"
   ]
  },
  {
   "cell_type": "code",
   "execution_count": 9,
   "metadata": {},
   "outputs": [
    {
     "name": "stdout",
     "output_type": "stream",
     "text": [
      "숫자 게임에 오신것을 환영합니다.\n",
      "66\n",
      "1부터 100 사이의 숫자를 추측해보세요:67\n",
      "틀렸습니다.\n"
     ]
    }
   ],
   "source": [
    "# Lab: Numerical Guessing Game\n",
    "\n",
    "from random import *\n",
    "\n",
    "print(\"숫자 게임에 오신것을 환영합니다.\")\n",
    "result=randint(1, 100)\n",
    "print(result)\n",
    "num = int(input(\"1부터 100 사이의 숫자를 추측해보세요:\"))\n",
    "\n",
    "if num == result:\n",
    "    print(\"맞았습니다. 게임종료\")\n",
    "else:\n",
    "    print(\"틀렸습니다.\")\n",
    "    \n"
   ]
  },
  {
   "cell_type": "code",
   "execution_count": 10,
   "metadata": {},
   "outputs": [
    {
     "name": "stdout",
     "output_type": "stream",
     "text": [
      "200\n"
     ]
    }
   ],
   "source": [
    "# 면적계산\n",
    "\n",
    "width=10\n",
    "height=20\n",
    "area=width * height\n",
    "\n",
    "print(area)\n",
    "\n",
    "# * : 곱 , / : 나누기 % : 나머지 // : 몫만"
   ]
  },
  {
   "cell_type": "code",
   "execution_count": 14,
   "metadata": {},
   "outputs": [
    {
     "name": "stdout",
     "output_type": "stream",
     "text": [
      "41\n",
      "80\n"
     ]
    }
   ],
   "source": [
    "# examples 사탕\n",
    "\n",
    "a=5000//120\n",
    "print(a)\n",
    "b=5000%120\n",
    "print(b)"
   ]
  },
  {
   "cell_type": "code",
   "execution_count": 16,
   "metadata": {},
   "outputs": [
    {
     "name": "stdout",
     "output_type": "stream",
     "text": [
      "35\n"
     ]
    }
   ],
   "source": [
    "# Labs: exchanging values of variables\n",
    "\n",
    "x=2.0\n",
    "y=3.0*(x**2)+7.0*x+9\n",
    "\n",
    "print(int(y))"
   ]
  },
  {
   "cell_type": "code",
   "execution_count": 19,
   "metadata": {},
   "outputs": [
    {
     "name": "stdout",
     "output_type": "stream",
     "text": [
      "485\n"
     ]
    }
   ],
   "source": [
    "# Lab 우주인\n",
    "\n",
    "a=(20+(30*52)) - (365*3)\n",
    "print(a)"
   ]
  },
  {
   "cell_type": "code",
   "execution_count": 20,
   "metadata": {},
   "outputs": [
    {
     "name": "stdout",
     "output_type": "stream",
     "text": [
      "9718.08\n"
     ]
    }
   ],
   "source": [
    "# Lab: Compound Interest\n",
    "\n",
    "a = 24*(1+0.06)*382\n",
    "\n",
    "print(a)"
   ]
  },
  {
   "cell_type": "code",
   "execution_count": 30,
   "metadata": {},
   "outputs": [
    {
     "name": "stdout",
     "output_type": "stream",
     "text": [
      "5.0\n",
      "94.0\n"
     ]
    }
   ],
   "source": [
    "# Lab: 등산 시간 계산\n",
    "\n",
    "from math import *\n",
    "\n",
    "a = sqrt(4**2+3**2)\n",
    "print(a)\n",
    "\n",
    "result= (10/20*60) + (a/10*60) + (a/30*60) + (8/20*60)\n",
    "print (result)"
   ]
  },
  {
   "cell_type": "code",
   "execution_count": 33,
   "metadata": {},
   "outputs": [
    {
     "data": {
      "text/plain": [
       "float"
      ]
     },
     "execution_count": 33,
     "metadata": {},
     "output_type": "execute_result"
    }
   ],
   "source": [
    "# type\n",
    "type(\"helloworld\")\n",
    "type(123)\n",
    "type(4.4)"
   ]
  },
  {
   "cell_type": "code",
   "execution_count": 36,
   "metadata": {},
   "outputs": [
    {
     "name": "stdout",
     "output_type": "stream",
     "text": [
      "반지름을 입력:5.0\n",
      "523.3333333333334\n"
     ]
    }
   ],
   "source": [
    "# Lab: Calculation Ball's Volume\n",
    "\n",
    "inp=float(input(\"반지름을 입력:\"))\n",
    "result=4/3*3.14*(inp**3)\n",
    "\n",
    "print(result)"
   ]
  },
  {
   "cell_type": "code",
   "execution_count": 37,
   "metadata": {},
   "outputs": [
    {
     "name": "stdout",
     "output_type": "stream",
     "text": [
      "133425638.07926083\n"
     ]
    }
   ],
   "source": [
    "# Lab: Calculation ball;s valume\n",
    "\n",
    "right=299792458\n",
    "result=float(299792458/1000)\n",
    "\n",
    "print(float(40*(10**12))/result)"
   ]
  },
  {
   "cell_type": "code",
   "execution_count": 38,
   "metadata": {},
   "outputs": [
    {
     "name": "stdout",
     "output_type": "stream",
     "text": [
      "나이를 알려주세요:30\n",
      "10년 후면 40 살이 되시는군요!\n"
     ]
    }
   ],
   "source": [
    "# lab: making conversation program\n",
    "\n",
    "inp=int(input(\"나이를 알려주세요:\"))\n",
    "\n",
    "print(\"10년 후면\",inp+10,\"살이 되시는군요!\")"
   ]
  },
  {
   "cell_type": "code",
   "execution_count": 43,
   "metadata": {},
   "outputs": [
    {
     "name": "stdout",
     "output_type": "stream",
     "text": [
      "물건값 입력:750\n",
      "1000: 0  500: 1  100: 2  10: 5  1: 0\n"
     ]
    }
   ],
   "source": [
    "# lab: making conversation program\n",
    "\n",
    "money=int(input(\"물건값 입력:\"))\n",
    "\n",
    "a=money//1000\n",
    "b=(money-a)//500\n",
    "c=(money-(1000*a+500*b))//100\n",
    "d=(money-(1000*a+500*b+100*c))//10\n",
    "e=(money-(1000*a+500*b+100*c+10*d))//1\n",
    "\n",
    "print(\"1000:\",a,\" 500:\",b,\" 100:\",c,\" 10:\",d,\" 1:\",e)\n",
    "\n"
   ]
  },
  {
   "cell_type": "code",
   "execution_count": 45,
   "metadata": {},
   "outputs": [
    {
     "name": "stdout",
     "output_type": "stream",
     "text": [
      "i 'm a boy\n"
     ]
    }
   ],
   "source": [
    "# 특수 문자열\n",
    "\n",
    "result=\"i \\'m a boy\"\n",
    "print(result)"
   ]
  },
  {
   "cell_type": "code",
   "execution_count": 46,
   "metadata": {},
   "outputs": [
    {
     "name": "stdout",
     "output_type": "stream",
     "text": [
      "1word:original\n",
      "2word:sound\n",
      "3word:track\n",
      "ost\n"
     ]
    }
   ],
   "source": [
    "# lab: 숫자추측게임\n",
    "\n",
    "a1=input(\"1word:\")\n",
    "a2=input(\"2word:\")\n",
    "a3=input(\"3word:\")\n",
    "\n",
    "print(a1[0]+a2[0]+a3[0])"
   ]
  },
  {
   "cell_type": "code",
   "execution_count": 52,
   "metadata": {},
   "outputs": [
    {
     "name": "stdout",
     "output_type": "stream",
     "text": [
      "9614\n",
      "301\n"
     ]
    }
   ],
   "source": [
    "# list-indexing\n",
    "\n",
    "list_ex=[5,9,301,714,3776,9614]\n",
    "high=5\n",
    "low=3\n",
    "\n",
    "print(list_ex[3+2])\n",
    "print(list_ex[high-low])"
   ]
  },
  {
   "cell_type": "code",
   "execution_count": 54,
   "metadata": {},
   "outputs": [
    {
     "data": {
      "text/plain": [
       "True"
      ]
     },
     "execution_count": 54,
     "metadata": {},
     "output_type": "execute_result"
    }
   ],
   "source": [
    "# in or not in\n",
    "\n",
    "a=[1,2,3,4,5,6,7,8,9]\n",
    "\n",
    "1 in a\n"
   ]
  },
  {
   "cell_type": "code",
   "execution_count": 56,
   "metadata": {},
   "outputs": [
    {
     "data": {
      "text/plain": [
       "[5, 6]"
      ]
     },
     "execution_count": 56,
     "metadata": {},
     "output_type": "execute_result"
    }
   ],
   "source": [
    "# slice (범위 지정)\n",
    "# slice = a <= x < b 된다.\n",
    "\n",
    "a=[1,2,3,4,5,6,7,8,9]\n",
    "\n",
    "a[4:6]"
   ]
  }
 ],
 "metadata": {
  "kernelspec": {
   "display_name": "Python 3",
   "language": "python",
   "name": "python3"
  },
  "language_info": {
   "codemirror_mode": {
    "name": "ipython",
    "version": 3
   },
   "file_extension": ".py",
   "mimetype": "text/x-python",
   "name": "python",
   "nbconvert_exporter": "python",
   "pygments_lexer": "ipython3",
   "version": "3.6.5"
  }
 },
 "nbformat": 4,
 "nbformat_minor": 2
}
